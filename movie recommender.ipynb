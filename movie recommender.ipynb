{
 "cells": [
  {
   "cell_type": "markdown",
   "id": "c46c5bdf",
   "metadata": {},
   "source": [
    "#  Movie recommendation Syetem\n"
   ]
  },
  {
   "cell_type": "markdown",
   "id": "e0e1d93f",
   "metadata": {},
   "source": [
    "## **Import Libraries**"
   ]
  },
  {
   "cell_type": "code",
   "execution_count": 104,
   "id": "bab6a412",
   "metadata": {
    "scrolled": true
   },
   "outputs": [],
   "source": [
    "import pandas as pd\n",
    "import numpy as np\n",
    "from scipy.sparse import csr_matrix\n",
    "from sklearn.neighbors import NearestNeighbors\n",
    "import matplotlib.pyplot as plt\n",
    "import seaborn as sns\n",
    "from surprise import KNNBasic, Reader\n",
    "from surprise import Dataset,accuracy\n",
    "from surprise.model_selection import train_test_split\n",
    "import time"
   ]
  },
  {
   "cell_type": "markdown",
   "id": "951a2d30",
   "metadata": {},
   "source": [
    "## **Read Data**"
   ]
  },
  {
   "cell_type": "markdown",
   "id": "0724c172",
   "metadata": {},
   "source": [
    "#### **These files contain 1,000,209 anonymous ratings of approximately 3,900 movies made by 6,040 MovieLens users who joined MovieLens in 2000.**"
   ]
  },
  {
   "cell_type": "code",
   "execution_count": 105,
   "id": "6276316f",
   "metadata": {},
   "outputs": [],
   "source": [
    "movies_data = pd.read_csv(\"movies.csv\",delimiter=\";\",encoding='latin-1')"
   ]
  },
  {
   "cell_type": "code",
   "execution_count": 106,
   "id": "2ef397c4",
   "metadata": {},
   "outputs": [],
   "source": [
    "ratings_data = pd.read_csv(\"ratings.csv\",delimiter=\";\",encoding='latin-1')"
   ]
  },
  {
   "cell_type": "code",
   "execution_count": 107,
   "id": "72315ee0",
   "metadata": {},
   "outputs": [],
   "source": [
    "user_data = pd.read_csv(\"users.csv\",delimiter=\";\",encoding='latin-1')"
   ]
  },
  {
   "cell_type": "markdown",
   "id": "3104ca94",
   "metadata": {},
   "source": [
    "##  **Exploratory Data Analysis**\n"
   ]
  },
  {
   "cell_type": "code",
   "execution_count": 108,
   "id": "7f33df96",
   "metadata": {},
   "outputs": [
    {
     "name": "stdout",
     "output_type": "stream",
     "text": [
      "<class 'pandas.core.frame.DataFrame'>\n",
      "RangeIndex: 3883 entries, 0 to 3882\n",
      "Data columns (total 4 columns):\n",
      " #   Column      Non-Null Count  Dtype \n",
      "---  ------      --------------  ----- \n",
      " 0   movieId     3883 non-null   object\n",
      " 1   title       3882 non-null   object\n",
      " 2   genres      2919 non-null   object\n",
      " 3   Unnamed: 3  1 non-null      object\n",
      "dtypes: object(4)\n",
      "memory usage: 121.5+ KB\n"
     ]
    }
   ],
   "source": [
    "movies_data.info()"
   ]
  },
  {
   "cell_type": "markdown",
   "id": "3eaab31b",
   "metadata": {},
   "source": [
    "#### **Genres are pipe-separated and are selected from the following genres:**\n",
    "\n",
    "\tAction\n",
    "\tAdventure\n",
    "\tAnimation\n",
    "\tChildren's\n",
    "\tComedy\n",
    "\tCrime\n",
    "\tDocumentary\n",
    "\tDrama\n",
    "\tFantasy\n",
    "\tFilm-Noir\n",
    "\tHorror\n",
    "\tMusical\n",
    "\tMystery\n",
    "\tRomance\n",
    "\tSci-Fi\n",
    "\tThriller\n",
    "\tWar\n",
    "\tWestern"
   ]
  },
  {
   "cell_type": "code",
   "execution_count": 109,
   "id": "7d100793",
   "metadata": {},
   "outputs": [
    {
     "data": {
      "text/html": [
       "<div>\n",
       "<style scoped>\n",
       "    .dataframe tbody tr th:only-of-type {\n",
       "        vertical-align: middle;\n",
       "    }\n",
       "\n",
       "    .dataframe tbody tr th {\n",
       "        vertical-align: top;\n",
       "    }\n",
       "\n",
       "    .dataframe thead th {\n",
       "        text-align: right;\n",
       "    }\n",
       "</style>\n",
       "<table border=\"1\" class=\"dataframe\">\n",
       "  <thead>\n",
       "    <tr style=\"text-align: right;\">\n",
       "      <th></th>\n",
       "      <th>movieId</th>\n",
       "      <th>title</th>\n",
       "      <th>genres</th>\n",
       "      <th>Unnamed: 3</th>\n",
       "    </tr>\n",
       "  </thead>\n",
       "  <tbody>\n",
       "    <tr>\n",
       "      <th>0</th>\n",
       "      <td>1</td>\n",
       "      <td>Toy Story (1995)</td>\n",
       "      <td>Animation|Children's|Comedy</td>\n",
       "      <td>NaN</td>\n",
       "    </tr>\n",
       "    <tr>\n",
       "      <th>1</th>\n",
       "      <td>2</td>\n",
       "      <td>Jumanji (1995)</td>\n",
       "      <td>Adventure|Children's|Fantasy</td>\n",
       "      <td>NaN</td>\n",
       "    </tr>\n",
       "    <tr>\n",
       "      <th>2</th>\n",
       "      <td>3</td>\n",
       "      <td>Grumpier Old Men (1995)</td>\n",
       "      <td>Comedy|Romance</td>\n",
       "      <td>NaN</td>\n",
       "    </tr>\n",
       "    <tr>\n",
       "      <th>3</th>\n",
       "      <td>4</td>\n",
       "      <td>Waiting to Exhale (1995)</td>\n",
       "      <td>Comedy|Drama</td>\n",
       "      <td>NaN</td>\n",
       "    </tr>\n",
       "    <tr>\n",
       "      <th>4</th>\n",
       "      <td>5</td>\n",
       "      <td>Father of the Bride Part II (1995)</td>\n",
       "      <td>Comedy</td>\n",
       "      <td>NaN</td>\n",
       "    </tr>\n",
       "  </tbody>\n",
       "</table>\n",
       "</div>"
      ],
      "text/plain": [
       "  movieId                               title                        genres  \\\n",
       "0       1                    Toy Story (1995)   Animation|Children's|Comedy   \n",
       "1       2                      Jumanji (1995)  Adventure|Children's|Fantasy   \n",
       "2       3             Grumpier Old Men (1995)                Comedy|Romance   \n",
       "3       4            Waiting to Exhale (1995)                  Comedy|Drama   \n",
       "4       5  Father of the Bride Part II (1995)                        Comedy   \n",
       "\n",
       "  Unnamed: 3  \n",
       "0        NaN  \n",
       "1        NaN  \n",
       "2        NaN  \n",
       "3        NaN  \n",
       "4        NaN  "
      ]
     },
     "execution_count": 109,
     "metadata": {},
     "output_type": "execute_result"
    }
   ],
   "source": [
    "movies_data.head()"
   ]
  },
  {
   "cell_type": "code",
   "execution_count": 110,
   "id": "0f727d62",
   "metadata": {},
   "outputs": [
    {
     "name": "stdout",
     "output_type": "stream",
     "text": [
      "<class 'pandas.core.frame.DataFrame'>\n",
      "RangeIndex: 1000209 entries, 0 to 1000208\n",
      "Data columns (total 4 columns):\n",
      " #   Column     Non-Null Count    Dtype\n",
      "---  ------     --------------    -----\n",
      " 0   userId     1000209 non-null  int64\n",
      " 1   movieId    1000209 non-null  int64\n",
      " 2   rating     1000209 non-null  int64\n",
      " 3   timestamp  1000209 non-null  int64\n",
      "dtypes: int64(4)\n",
      "memory usage: 30.5 MB\n"
     ]
    }
   ],
   "source": [
    "ratings_data.info()"
   ]
  },
  {
   "cell_type": "code",
   "execution_count": 111,
   "id": "97583b28",
   "metadata": {},
   "outputs": [
    {
     "data": {
      "text/html": [
       "<div>\n",
       "<style scoped>\n",
       "    .dataframe tbody tr th:only-of-type {\n",
       "        vertical-align: middle;\n",
       "    }\n",
       "\n",
       "    .dataframe tbody tr th {\n",
       "        vertical-align: top;\n",
       "    }\n",
       "\n",
       "    .dataframe thead th {\n",
       "        text-align: right;\n",
       "    }\n",
       "</style>\n",
       "<table border=\"1\" class=\"dataframe\">\n",
       "  <thead>\n",
       "    <tr style=\"text-align: right;\">\n",
       "      <th></th>\n",
       "      <th>userId</th>\n",
       "      <th>movieId</th>\n",
       "      <th>rating</th>\n",
       "      <th>timestamp</th>\n",
       "    </tr>\n",
       "  </thead>\n",
       "  <tbody>\n",
       "    <tr>\n",
       "      <th>0</th>\n",
       "      <td>1</td>\n",
       "      <td>1193</td>\n",
       "      <td>5</td>\n",
       "      <td>978300760</td>\n",
       "    </tr>\n",
       "    <tr>\n",
       "      <th>1</th>\n",
       "      <td>1</td>\n",
       "      <td>661</td>\n",
       "      <td>3</td>\n",
       "      <td>978302109</td>\n",
       "    </tr>\n",
       "    <tr>\n",
       "      <th>2</th>\n",
       "      <td>1</td>\n",
       "      <td>914</td>\n",
       "      <td>3</td>\n",
       "      <td>978301968</td>\n",
       "    </tr>\n",
       "    <tr>\n",
       "      <th>3</th>\n",
       "      <td>1</td>\n",
       "      <td>3408</td>\n",
       "      <td>4</td>\n",
       "      <td>978300275</td>\n",
       "    </tr>\n",
       "    <tr>\n",
       "      <th>4</th>\n",
       "      <td>1</td>\n",
       "      <td>2355</td>\n",
       "      <td>5</td>\n",
       "      <td>978824291</td>\n",
       "    </tr>\n",
       "  </tbody>\n",
       "</table>\n",
       "</div>"
      ],
      "text/plain": [
       "   userId  movieId  rating  timestamp\n",
       "0       1     1193       5  978300760\n",
       "1       1      661       3  978302109\n",
       "2       1      914       3  978301968\n",
       "3       1     3408       4  978300275\n",
       "4       1     2355       5  978824291"
      ]
     },
     "execution_count": 111,
     "metadata": {},
     "output_type": "execute_result"
    }
   ],
   "source": [
    "ratings_data.head()"
   ]
  },
  {
   "cell_type": "code",
   "execution_count": 112,
   "id": "888b39d5",
   "metadata": {},
   "outputs": [
    {
     "name": "stdout",
     "output_type": "stream",
     "text": [
      "<class 'pandas.core.frame.DataFrame'>\n",
      "RangeIndex: 6040 entries, 0 to 6039\n",
      "Data columns (total 5 columns):\n",
      " #   Column      Non-Null Count  Dtype \n",
      "---  ------      --------------  ----- \n",
      " 0   userId      6040 non-null   int64 \n",
      " 1   gender      6040 non-null   object\n",
      " 2   age         6040 non-null   int64 \n",
      " 3   occupation  6040 non-null   int64 \n",
      " 4   zip-code    6040 non-null   object\n",
      "dtypes: int64(3), object(2)\n",
      "memory usage: 236.1+ KB\n"
     ]
    }
   ],
   "source": [
    "user_data.info()"
   ]
  },
  {
   "cell_type": "code",
   "execution_count": 113,
   "id": "d6736cc8",
   "metadata": {},
   "outputs": [
    {
     "data": {
      "text/html": [
       "<div>\n",
       "<style scoped>\n",
       "    .dataframe tbody tr th:only-of-type {\n",
       "        vertical-align: middle;\n",
       "    }\n",
       "\n",
       "    .dataframe tbody tr th {\n",
       "        vertical-align: top;\n",
       "    }\n",
       "\n",
       "    .dataframe thead th {\n",
       "        text-align: right;\n",
       "    }\n",
       "</style>\n",
       "<table border=\"1\" class=\"dataframe\">\n",
       "  <thead>\n",
       "    <tr style=\"text-align: right;\">\n",
       "      <th></th>\n",
       "      <th>userId</th>\n",
       "      <th>gender</th>\n",
       "      <th>age</th>\n",
       "      <th>occupation</th>\n",
       "      <th>zip-code</th>\n",
       "    </tr>\n",
       "  </thead>\n",
       "  <tbody>\n",
       "    <tr>\n",
       "      <th>0</th>\n",
       "      <td>1</td>\n",
       "      <td>F</td>\n",
       "      <td>1</td>\n",
       "      <td>10</td>\n",
       "      <td>48067</td>\n",
       "    </tr>\n",
       "    <tr>\n",
       "      <th>1</th>\n",
       "      <td>2</td>\n",
       "      <td>M</td>\n",
       "      <td>56</td>\n",
       "      <td>16</td>\n",
       "      <td>70072</td>\n",
       "    </tr>\n",
       "    <tr>\n",
       "      <th>2</th>\n",
       "      <td>3</td>\n",
       "      <td>M</td>\n",
       "      <td>25</td>\n",
       "      <td>15</td>\n",
       "      <td>55117</td>\n",
       "    </tr>\n",
       "    <tr>\n",
       "      <th>3</th>\n",
       "      <td>4</td>\n",
       "      <td>M</td>\n",
       "      <td>45</td>\n",
       "      <td>7</td>\n",
       "      <td>2460</td>\n",
       "    </tr>\n",
       "    <tr>\n",
       "      <th>4</th>\n",
       "      <td>5</td>\n",
       "      <td>M</td>\n",
       "      <td>25</td>\n",
       "      <td>20</td>\n",
       "      <td>55455</td>\n",
       "    </tr>\n",
       "  </tbody>\n",
       "</table>\n",
       "</div>"
      ],
      "text/plain": [
       "   userId gender  age  occupation zip-code\n",
       "0       1      F    1          10    48067\n",
       "1       2      M   56          16    70072\n",
       "2       3      M   25          15    55117\n",
       "3       4      M   45           7     2460\n",
       "4       5      M   25          20    55455"
      ]
     },
     "execution_count": 113,
     "metadata": {},
     "output_type": "execute_result"
    }
   ],
   "source": [
    "user_data.head()"
   ]
  },
  {
   "cell_type": "markdown",
   "id": "7a07286d",
   "metadata": {},
   "source": [
    "#### **Gender is denoted by a \"M\" for male and \"F\" for female**"
   ]
  },
  {
   "cell_type": "code",
   "execution_count": 114,
   "id": "f9e03082",
   "metadata": {},
   "outputs": [
    {
     "data": {
      "text/plain": [
       "M    4331\n",
       "F    1709\n",
       "Name: gender, dtype: int64"
      ]
     },
     "execution_count": 114,
     "metadata": {},
     "output_type": "execute_result"
    }
   ],
   "source": [
    "user_data['gender'].value_counts()"
   ]
  },
  {
   "cell_type": "markdown",
   "id": "943ecebd",
   "metadata": {},
   "source": [
    "#### **Age is chosen from the following ranges:**\n",
    "\n",
    "\t 1:  \"Under 18\"\n",
    "     18:  \"18-24\"\n",
    "\t 25:  \"25-34\"\n",
    "     35:  \"35-44\"\n",
    "\t 45:  \"45-49\"\n",
    "     50:  \"50-55\"\n",
    "     56:  \"56+\""
   ]
  },
  {
   "cell_type": "code",
   "execution_count": 115,
   "id": "ce3bc0d4",
   "metadata": {},
   "outputs": [
    {
     "data": {
      "text/plain": [
       "25    2096\n",
       "35    1193\n",
       "18    1103\n",
       "45     550\n",
       "50     496\n",
       "56     380\n",
       "1      222\n",
       "Name: age, dtype: int64"
      ]
     },
     "execution_count": 115,
     "metadata": {},
     "output_type": "execute_result"
    }
   ],
   "source": [
    "user_data['age'].value_counts()"
   ]
  },
  {
   "cell_type": "markdown",
   "id": "af4417cc",
   "metadata": {},
   "source": [
    "#### **Occupation is chosen from the following choices:**\n",
    "\n",
    "\t  0:  \"other\" or not specified\n",
    "\t  1:  \"academic/educator\"\n",
    "      2:  \"artist\"\n",
    "\t  3:  \"clerical/admin\"\n",
    "\t  4:  \"college/grad student\"\n",
    "\t  5:  \"customer service\"\n",
    "\t  6:  \"doctor/health care\"\n",
    "\t  7:  \"executive/managerial\"\n",
    "\t  8:  \"farmer\"\n",
    "\t  9:  \"homemaker\"\n",
    "\t 10:  \"K-12 student\"\n",
    "\t 11:  \"lawyer\"\n",
    "\t 12:  \"programmer\"\n",
    "\t 13:  \"retired\"\n",
    "\t 14:  \"sales/marketing\"\n",
    "\t 15:  \"scientist\"\n",
    "\t 16:  \"self-employed\"\n",
    "\t 17:  \"technician/engineer\"\n",
    "\t 18:  \"tradesman/craftsman\"\n",
    "\t 19:  \"unemployed\"\n",
    "\t 20:  \"writer\""
   ]
  },
  {
   "cell_type": "code",
   "execution_count": 116,
   "id": "23d4aa67",
   "metadata": {},
   "outputs": [
    {
     "data": {
      "text/plain": [
       "4     759\n",
       "0     711\n",
       "7     679\n",
       "1     528\n",
       "17    502\n",
       "12    388\n",
       "14    302\n",
       "20    281\n",
       "2     267\n",
       "16    241\n",
       "6     236\n",
       "10    195\n",
       "3     173\n",
       "15    144\n",
       "13    142\n",
       "11    129\n",
       "5     112\n",
       "9      92\n",
       "19     72\n",
       "18     70\n",
       "8      17\n",
       "Name: occupation, dtype: int64"
      ]
     },
     "execution_count": 116,
     "metadata": {},
     "output_type": "execute_result"
    }
   ],
   "source": [
    "user_data['occupation'].value_counts()"
   ]
  },
  {
   "cell_type": "markdown",
   "id": "7a2c0786",
   "metadata": {},
   "source": [
    "##  **PreProcessing**"
   ]
  },
  {
   "cell_type": "code",
   "execution_count": 117,
   "id": "14d7b3d0",
   "metadata": {},
   "outputs": [
    {
     "data": {
      "text/html": [
       "<div>\n",
       "<style scoped>\n",
       "    .dataframe tbody tr th:only-of-type {\n",
       "        vertical-align: middle;\n",
       "    }\n",
       "\n",
       "    .dataframe tbody tr th {\n",
       "        vertical-align: top;\n",
       "    }\n",
       "\n",
       "    .dataframe thead th {\n",
       "        text-align: right;\n",
       "    }\n",
       "</style>\n",
       "<table border=\"1\" class=\"dataframe\">\n",
       "  <thead>\n",
       "    <tr style=\"text-align: right;\">\n",
       "      <th></th>\n",
       "      <th>movieId</th>\n",
       "      <th>title</th>\n",
       "      <th>genres</th>\n",
       "      <th>Unnamed: 3</th>\n",
       "    </tr>\n",
       "  </thead>\n",
       "  <tbody>\n",
       "    <tr>\n",
       "      <th>0</th>\n",
       "      <td>1</td>\n",
       "      <td>Toy Story (1995)</td>\n",
       "      <td>Animation|Children's|Comedy</td>\n",
       "      <td>NaN</td>\n",
       "    </tr>\n",
       "    <tr>\n",
       "      <th>1</th>\n",
       "      <td>2</td>\n",
       "      <td>Jumanji (1995)</td>\n",
       "      <td>Adventure|Children's|Fantasy</td>\n",
       "      <td>NaN</td>\n",
       "    </tr>\n",
       "    <tr>\n",
       "      <th>2</th>\n",
       "      <td>3</td>\n",
       "      <td>Grumpier Old Men (1995)</td>\n",
       "      <td>Comedy|Romance</td>\n",
       "      <td>NaN</td>\n",
       "    </tr>\n",
       "    <tr>\n",
       "      <th>3</th>\n",
       "      <td>4</td>\n",
       "      <td>Waiting to Exhale (1995)</td>\n",
       "      <td>Comedy|Drama</td>\n",
       "      <td>NaN</td>\n",
       "    </tr>\n",
       "    <tr>\n",
       "      <th>4</th>\n",
       "      <td>5</td>\n",
       "      <td>Father of the Bride Part II (1995)</td>\n",
       "      <td>Comedy</td>\n",
       "      <td>NaN</td>\n",
       "    </tr>\n",
       "  </tbody>\n",
       "</table>\n",
       "</div>"
      ],
      "text/plain": [
       "  movieId                               title                        genres  \\\n",
       "0       1                    Toy Story (1995)   Animation|Children's|Comedy   \n",
       "1       2                      Jumanji (1995)  Adventure|Children's|Fantasy   \n",
       "2       3             Grumpier Old Men (1995)                Comedy|Romance   \n",
       "3       4            Waiting to Exhale (1995)                  Comedy|Drama   \n",
       "4       5  Father of the Bride Part II (1995)                        Comedy   \n",
       "\n",
       "  Unnamed: 3  \n",
       "0        NaN  \n",
       "1        NaN  \n",
       "2        NaN  \n",
       "3        NaN  \n",
       "4        NaN  "
      ]
     },
     "execution_count": 117,
     "metadata": {},
     "output_type": "execute_result"
    }
   ],
   "source": [
    "movies_data.head()"
   ]
  },
  {
   "cell_type": "code",
   "execution_count": 118,
   "id": "e83d1a4a",
   "metadata": {},
   "outputs": [],
   "source": [
    "# WE try to split year of movie from title column"
   ]
  },
  {
   "cell_type": "code",
   "execution_count": 119,
   "id": "f9be78e5",
   "metadata": {},
   "outputs": [],
   "source": [
    "def date_catch(txt):\n",
    "    x=0\n",
    "    try:\n",
    "        txt.strip()\n",
    "        x=int(txt[-5:-1])\n",
    "    except:\n",
    "        x=0\n",
    "    return x"
   ]
  },
  {
   "cell_type": "code",
   "execution_count": 120,
   "id": "578dad34",
   "metadata": {},
   "outputs": [],
   "source": [
    "def data_tilte(txt):\n",
    "    x=0\n",
    "    outp=\"\"\n",
    "    try:\n",
    "        txt.strip()\n",
    "        x=int(txt[-5:-1])\n",
    "        outp=txt[:-6]\n",
    "    except:\n",
    "        x=0\n",
    "        outp=txt\n",
    "    return outp"
   ]
  },
  {
   "cell_type": "code",
   "execution_count": 121,
   "id": "ea92a147",
   "metadata": {},
   "outputs": [],
   "source": [
    "movies_data['date']=movies_data['title'].apply(date_catch)"
   ]
  },
  {
   "cell_type": "code",
   "execution_count": 122,
   "id": "2236c1b5",
   "metadata": {},
   "outputs": [
    {
     "data": {
      "text/html": [
       "<div>\n",
       "<style scoped>\n",
       "    .dataframe tbody tr th:only-of-type {\n",
       "        vertical-align: middle;\n",
       "    }\n",
       "\n",
       "    .dataframe tbody tr th {\n",
       "        vertical-align: top;\n",
       "    }\n",
       "\n",
       "    .dataframe thead th {\n",
       "        text-align: right;\n",
       "    }\n",
       "</style>\n",
       "<table border=\"1\" class=\"dataframe\">\n",
       "  <thead>\n",
       "    <tr style=\"text-align: right;\">\n",
       "      <th></th>\n",
       "      <th>movieId</th>\n",
       "      <th>title</th>\n",
       "      <th>genres</th>\n",
       "      <th>Unnamed: 3</th>\n",
       "      <th>date</th>\n",
       "    </tr>\n",
       "  </thead>\n",
       "  <tbody>\n",
       "    <tr>\n",
       "      <th>0</th>\n",
       "      <td>1</td>\n",
       "      <td>Toy Story (1995)</td>\n",
       "      <td>Animation|Children's|Comedy</td>\n",
       "      <td>NaN</td>\n",
       "      <td>1995</td>\n",
       "    </tr>\n",
       "    <tr>\n",
       "      <th>1</th>\n",
       "      <td>2</td>\n",
       "      <td>Jumanji (1995)</td>\n",
       "      <td>Adventure|Children's|Fantasy</td>\n",
       "      <td>NaN</td>\n",
       "      <td>1995</td>\n",
       "    </tr>\n",
       "    <tr>\n",
       "      <th>2</th>\n",
       "      <td>3</td>\n",
       "      <td>Grumpier Old Men (1995)</td>\n",
       "      <td>Comedy|Romance</td>\n",
       "      <td>NaN</td>\n",
       "      <td>1995</td>\n",
       "    </tr>\n",
       "    <tr>\n",
       "      <th>3</th>\n",
       "      <td>4</td>\n",
       "      <td>Waiting to Exhale (1995)</td>\n",
       "      <td>Comedy|Drama</td>\n",
       "      <td>NaN</td>\n",
       "      <td>1995</td>\n",
       "    </tr>\n",
       "    <tr>\n",
       "      <th>4</th>\n",
       "      <td>5</td>\n",
       "      <td>Father of the Bride Part II (1995)</td>\n",
       "      <td>Comedy</td>\n",
       "      <td>NaN</td>\n",
       "      <td>1995</td>\n",
       "    </tr>\n",
       "  </tbody>\n",
       "</table>\n",
       "</div>"
      ],
      "text/plain": [
       "  movieId                               title                        genres  \\\n",
       "0       1                    Toy Story (1995)   Animation|Children's|Comedy   \n",
       "1       2                      Jumanji (1995)  Adventure|Children's|Fantasy   \n",
       "2       3             Grumpier Old Men (1995)                Comedy|Romance   \n",
       "3       4            Waiting to Exhale (1995)                  Comedy|Drama   \n",
       "4       5  Father of the Bride Part II (1995)                        Comedy   \n",
       "\n",
       "  Unnamed: 3  date  \n",
       "0        NaN  1995  \n",
       "1        NaN  1995  \n",
       "2        NaN  1995  \n",
       "3        NaN  1995  \n",
       "4        NaN  1995  "
      ]
     },
     "execution_count": 122,
     "metadata": {},
     "output_type": "execute_result"
    }
   ],
   "source": [
    "movies_data.head(5)"
   ]
  },
  {
   "cell_type": "code",
   "execution_count": 123,
   "id": "bad842a5",
   "metadata": {},
   "outputs": [
    {
     "data": {
      "text/plain": [
       "(3883, 5)"
      ]
     },
     "execution_count": 123,
     "metadata": {},
     "output_type": "execute_result"
    }
   ],
   "source": [
    "movies_data.shape"
   ]
  },
  {
   "cell_type": "code",
   "execution_count": 124,
   "id": "12ae3d06",
   "metadata": {},
   "outputs": [
    {
     "data": {
      "text/html": [
       "<div>\n",
       "<style scoped>\n",
       "    .dataframe tbody tr th:only-of-type {\n",
       "        vertical-align: middle;\n",
       "    }\n",
       "\n",
       "    .dataframe tbody tr th {\n",
       "        vertical-align: top;\n",
       "    }\n",
       "\n",
       "    .dataframe thead th {\n",
       "        text-align: right;\n",
       "    }\n",
       "</style>\n",
       "<table border=\"1\" class=\"dataframe\">\n",
       "  <thead>\n",
       "    <tr style=\"text-align: right;\">\n",
       "      <th></th>\n",
       "      <th>movieId</th>\n",
       "      <th>title</th>\n",
       "      <th>genres</th>\n",
       "      <th>Unnamed: 3</th>\n",
       "      <th>date</th>\n",
       "    </tr>\n",
       "  </thead>\n",
       "  <tbody>\n",
       "    <tr>\n",
       "      <th>10</th>\n",
       "      <td>11</td>\n",
       "      <td>American President</td>\n",
       "      <td>NaN</td>\n",
       "      <td>NaN</td>\n",
       "      <td>0</td>\n",
       "    </tr>\n",
       "    <tr>\n",
       "      <th>11</th>\n",
       "      <td>12</td>\n",
       "      <td>Dracula</td>\n",
       "      <td>Dead and Loving It (1995)</td>\n",
       "      <td>NaN</td>\n",
       "      <td>0</td>\n",
       "    </tr>\n",
       "    <tr>\n",
       "      <th>18</th>\n",
       "      <td>19</td>\n",
       "      <td>Ace Ventura</td>\n",
       "      <td>When Nature Calls (1995)</td>\n",
       "      <td>NaN</td>\n",
       "      <td>0</td>\n",
       "    </tr>\n",
       "    <tr>\n",
       "      <th>28</th>\n",
       "      <td>29</td>\n",
       "      <td>City of Lost Children</td>\n",
       "      <td>NaN</td>\n",
       "      <td>NaN</td>\n",
       "      <td>0</td>\n",
       "    </tr>\n",
       "    <tr>\n",
       "      <th>39</th>\n",
       "      <td>40</td>\n",
       "      <td>Cry</td>\n",
       "      <td>NaN</td>\n",
       "      <td>NaN</td>\n",
       "      <td>0</td>\n",
       "    </tr>\n",
       "    <tr>\n",
       "      <th>...</th>\n",
       "      <td>...</td>\n",
       "      <td>...</td>\n",
       "      <td>...</td>\n",
       "      <td>...</td>\n",
       "      <td>...</td>\n",
       "    </tr>\n",
       "    <tr>\n",
       "      <th>3861</th>\n",
       "      <td>3945</td>\n",
       "      <td>Digimon</td>\n",
       "      <td>The Movie (2000)</td>\n",
       "      <td>NaN</td>\n",
       "      <td>0</td>\n",
       "    </tr>\n",
       "    <tr>\n",
       "      <th>3868</th>\n",
       "      <td>3952</td>\n",
       "      <td>Contender</td>\n",
       "      <td>NaN</td>\n",
       "      <td>NaN</td>\n",
       "      <td>0</td>\n",
       "    </tr>\n",
       "    <tr>\n",
       "      <th>3876</th>\n",
       "      <td>2886</td>\n",
       "      <td>Adventures of Elmo in Grouchland</td>\n",
       "      <td>NaN</td>\n",
       "      <td>NaN</td>\n",
       "      <td>0</td>\n",
       "    </tr>\n",
       "    <tr>\n",
       "      <th>3879</th>\n",
       "      <td>2889</td>\n",
       "      <td>Mystery</td>\n",
       "      <td>NaN</td>\n",
       "      <td>NaN</td>\n",
       "      <td>0</td>\n",
       "    </tr>\n",
       "    <tr>\n",
       "      <th>3881</th>\n",
       "      <td>2891</td>\n",
       "      <td>Happy</td>\n",
       "      <td>NaN</td>\n",
       "      <td>NaN</td>\n",
       "      <td>0</td>\n",
       "    </tr>\n",
       "  </tbody>\n",
       "</table>\n",
       "<p>1150 rows × 5 columns</p>\n",
       "</div>"
      ],
      "text/plain": [
       "     movieId                             title                      genres  \\\n",
       "10        11                American President                         NaN   \n",
       "11        12                           Dracula   Dead and Loving It (1995)   \n",
       "18        19                       Ace Ventura    When Nature Calls (1995)   \n",
       "28        29             City of Lost Children                         NaN   \n",
       "39        40                               Cry                         NaN   \n",
       "...      ...                               ...                         ...   \n",
       "3861    3945                           Digimon            The Movie (2000)   \n",
       "3868    3952                         Contender                         NaN   \n",
       "3876    2886  Adventures of Elmo in Grouchland                         NaN   \n",
       "3879    2889                           Mystery                         NaN   \n",
       "3881    2891                             Happy                         NaN   \n",
       "\n",
       "     Unnamed: 3  date  \n",
       "10          NaN     0  \n",
       "11          NaN     0  \n",
       "18          NaN     0  \n",
       "28          NaN     0  \n",
       "39          NaN     0  \n",
       "...         ...   ...  \n",
       "3861        NaN     0  \n",
       "3868        NaN     0  \n",
       "3876        NaN     0  \n",
       "3879        NaN     0  \n",
       "3881        NaN     0  \n",
       "\n",
       "[1150 rows x 5 columns]"
      ]
     },
     "execution_count": 124,
     "metadata": {},
     "output_type": "execute_result"
    }
   ],
   "source": [
    "movies_data[movies_data['date']==0]"
   ]
  },
  {
   "cell_type": "markdown",
   "id": "a205b97c",
   "metadata": {},
   "source": [
    "#### **it's sperated in good way and format but we noticed that there are more that 1000 movie without public date so we decide to remove publish date from our data**\n"
   ]
  },
  {
   "cell_type": "code",
   "execution_count": 125,
   "id": "66603b9b",
   "metadata": {},
   "outputs": [],
   "source": [
    "movies_data['title']=movies_data['title'].apply(data_tilte)"
   ]
  },
  {
   "cell_type": "code",
   "execution_count": 126,
   "id": "da513053",
   "metadata": {},
   "outputs": [
    {
     "data": {
      "text/html": [
       "<div>\n",
       "<style scoped>\n",
       "    .dataframe tbody tr th:only-of-type {\n",
       "        vertical-align: middle;\n",
       "    }\n",
       "\n",
       "    .dataframe tbody tr th {\n",
       "        vertical-align: top;\n",
       "    }\n",
       "\n",
       "    .dataframe thead th {\n",
       "        text-align: right;\n",
       "    }\n",
       "</style>\n",
       "<table border=\"1\" class=\"dataframe\">\n",
       "  <thead>\n",
       "    <tr style=\"text-align: right;\">\n",
       "      <th></th>\n",
       "      <th>movieId</th>\n",
       "      <th>title</th>\n",
       "      <th>genres</th>\n",
       "      <th>Unnamed: 3</th>\n",
       "      <th>date</th>\n",
       "    </tr>\n",
       "  </thead>\n",
       "  <tbody>\n",
       "    <tr>\n",
       "      <th>0</th>\n",
       "      <td>1</td>\n",
       "      <td>Toy Story</td>\n",
       "      <td>Animation|Children's|Comedy</td>\n",
       "      <td>NaN</td>\n",
       "      <td>1995</td>\n",
       "    </tr>\n",
       "    <tr>\n",
       "      <th>1</th>\n",
       "      <td>2</td>\n",
       "      <td>Jumanji</td>\n",
       "      <td>Adventure|Children's|Fantasy</td>\n",
       "      <td>NaN</td>\n",
       "      <td>1995</td>\n",
       "    </tr>\n",
       "    <tr>\n",
       "      <th>2</th>\n",
       "      <td>3</td>\n",
       "      <td>Grumpier Old Men</td>\n",
       "      <td>Comedy|Romance</td>\n",
       "      <td>NaN</td>\n",
       "      <td>1995</td>\n",
       "    </tr>\n",
       "    <tr>\n",
       "      <th>3</th>\n",
       "      <td>4</td>\n",
       "      <td>Waiting to Exhale</td>\n",
       "      <td>Comedy|Drama</td>\n",
       "      <td>NaN</td>\n",
       "      <td>1995</td>\n",
       "    </tr>\n",
       "    <tr>\n",
       "      <th>4</th>\n",
       "      <td>5</td>\n",
       "      <td>Father of the Bride Part II</td>\n",
       "      <td>Comedy</td>\n",
       "      <td>NaN</td>\n",
       "      <td>1995</td>\n",
       "    </tr>\n",
       "    <tr>\n",
       "      <th>...</th>\n",
       "      <td>...</td>\n",
       "      <td>...</td>\n",
       "      <td>...</td>\n",
       "      <td>...</td>\n",
       "      <td>...</td>\n",
       "    </tr>\n",
       "    <tr>\n",
       "      <th>3878</th>\n",
       "      <td>2888</td>\n",
       "      <td>Drive Me Crazy</td>\n",
       "      <td>Comedy|Romance</td>\n",
       "      <td>NaN</td>\n",
       "      <td>1999</td>\n",
       "    </tr>\n",
       "    <tr>\n",
       "      <th>3879</th>\n",
       "      <td>2889</td>\n",
       "      <td>Mystery</td>\n",
       "      <td>NaN</td>\n",
       "      <td>NaN</td>\n",
       "      <td>0</td>\n",
       "    </tr>\n",
       "    <tr>\n",
       "      <th>3880</th>\n",
       "      <td>2890</td>\n",
       "      <td>Three Kings</td>\n",
       "      <td>Drama|War</td>\n",
       "      <td>NaN</td>\n",
       "      <td>1999</td>\n",
       "    </tr>\n",
       "    <tr>\n",
       "      <th>3881</th>\n",
       "      <td>2891</td>\n",
       "      <td>Happy</td>\n",
       "      <td>NaN</td>\n",
       "      <td>NaN</td>\n",
       "      <td>0</td>\n",
       "    </tr>\n",
       "    <tr>\n",
       "      <th>3882</th>\n",
       "      <td>2892</td>\n",
       "      <td>New Rose Hotel</td>\n",
       "      <td>Action|Drama</td>\n",
       "      <td>NaN</td>\n",
       "      <td>1998</td>\n",
       "    </tr>\n",
       "  </tbody>\n",
       "</table>\n",
       "<p>3883 rows × 5 columns</p>\n",
       "</div>"
      ],
      "text/plain": [
       "     movieId                         title                        genres  \\\n",
       "0          1                    Toy Story    Animation|Children's|Comedy   \n",
       "1          2                      Jumanji   Adventure|Children's|Fantasy   \n",
       "2          3             Grumpier Old Men                 Comedy|Romance   \n",
       "3          4            Waiting to Exhale                   Comedy|Drama   \n",
       "4          5  Father of the Bride Part II                         Comedy   \n",
       "...      ...                           ...                           ...   \n",
       "3878    2888               Drive Me Crazy                 Comedy|Romance   \n",
       "3879    2889                       Mystery                           NaN   \n",
       "3880    2890                  Three Kings                      Drama|War   \n",
       "3881    2891                         Happy                           NaN   \n",
       "3882    2892               New Rose Hotel                   Action|Drama   \n",
       "\n",
       "     Unnamed: 3  date  \n",
       "0           NaN  1995  \n",
       "1           NaN  1995  \n",
       "2           NaN  1995  \n",
       "3           NaN  1995  \n",
       "4           NaN  1995  \n",
       "...         ...   ...  \n",
       "3878        NaN  1999  \n",
       "3879        NaN     0  \n",
       "3880        NaN  1999  \n",
       "3881        NaN     0  \n",
       "3882        NaN  1998  \n",
       "\n",
       "[3883 rows x 5 columns]"
      ]
     },
     "execution_count": 126,
     "metadata": {},
     "output_type": "execute_result"
    }
   ],
   "source": [
    "movies_data"
   ]
  },
  {
   "cell_type": "code",
   "execution_count": 127,
   "id": "fe3bfffd",
   "metadata": {},
   "outputs": [],
   "source": [
    "movies_data.drop(['Unnamed: 3','date'],axis=1,inplace=True)"
   ]
  },
  {
   "cell_type": "code",
   "execution_count": 128,
   "id": "3173106d",
   "metadata": {},
   "outputs": [
    {
     "data": {
      "text/html": [
       "<div>\n",
       "<style scoped>\n",
       "    .dataframe tbody tr th:only-of-type {\n",
       "        vertical-align: middle;\n",
       "    }\n",
       "\n",
       "    .dataframe tbody tr th {\n",
       "        vertical-align: top;\n",
       "    }\n",
       "\n",
       "    .dataframe thead th {\n",
       "        text-align: right;\n",
       "    }\n",
       "</style>\n",
       "<table border=\"1\" class=\"dataframe\">\n",
       "  <thead>\n",
       "    <tr style=\"text-align: right;\">\n",
       "      <th></th>\n",
       "      <th>movieId</th>\n",
       "      <th>title</th>\n",
       "      <th>genres</th>\n",
       "    </tr>\n",
       "  </thead>\n",
       "  <tbody>\n",
       "    <tr>\n",
       "      <th>0</th>\n",
       "      <td>1</td>\n",
       "      <td>Toy Story</td>\n",
       "      <td>Animation|Children's|Comedy</td>\n",
       "    </tr>\n",
       "    <tr>\n",
       "      <th>1</th>\n",
       "      <td>2</td>\n",
       "      <td>Jumanji</td>\n",
       "      <td>Adventure|Children's|Fantasy</td>\n",
       "    </tr>\n",
       "    <tr>\n",
       "      <th>2</th>\n",
       "      <td>3</td>\n",
       "      <td>Grumpier Old Men</td>\n",
       "      <td>Comedy|Romance</td>\n",
       "    </tr>\n",
       "    <tr>\n",
       "      <th>3</th>\n",
       "      <td>4</td>\n",
       "      <td>Waiting to Exhale</td>\n",
       "      <td>Comedy|Drama</td>\n",
       "    </tr>\n",
       "    <tr>\n",
       "      <th>4</th>\n",
       "      <td>5</td>\n",
       "      <td>Father of the Bride Part II</td>\n",
       "      <td>Comedy</td>\n",
       "    </tr>\n",
       "  </tbody>\n",
       "</table>\n",
       "</div>"
      ],
      "text/plain": [
       "  movieId                         title                        genres\n",
       "0       1                    Toy Story    Animation|Children's|Comedy\n",
       "1       2                      Jumanji   Adventure|Children's|Fantasy\n",
       "2       3             Grumpier Old Men                 Comedy|Romance\n",
       "3       4            Waiting to Exhale                   Comedy|Drama\n",
       "4       5  Father of the Bride Part II                         Comedy"
      ]
     },
     "execution_count": 128,
     "metadata": {},
     "output_type": "execute_result"
    }
   ],
   "source": [
    " movies_data.head()"
   ]
  },
  {
   "cell_type": "code",
   "execution_count": 129,
   "id": "330deb6b",
   "metadata": {},
   "outputs": [
    {
     "name": "stdout",
     "output_type": "stream",
     "text": [
      "<class 'pandas.core.frame.DataFrame'>\n",
      "RangeIndex: 3883 entries, 0 to 3882\n",
      "Data columns (total 3 columns):\n",
      " #   Column   Non-Null Count  Dtype \n",
      "---  ------   --------------  ----- \n",
      " 0   movieId  3883 non-null   object\n",
      " 1   title    3882 non-null   object\n",
      " 2   genres   2919 non-null   object\n",
      "dtypes: object(3)\n",
      "memory usage: 91.1+ KB\n"
     ]
    }
   ],
   "source": [
    "movies_data.info()"
   ]
  },
  {
   "cell_type": "markdown",
   "id": "56345c3d",
   "metadata": {},
   "source": [
    "#### **we should drop all rows with null values in genres and title**"
   ]
  },
  {
   "cell_type": "code",
   "execution_count": 130,
   "id": "3fa43eaa",
   "metadata": {},
   "outputs": [],
   "source": [
    "movies_data.dropna(inplace=True)"
   ]
  },
  {
   "cell_type": "code",
   "execution_count": 131,
   "id": "8e1049e5",
   "metadata": {},
   "outputs": [
    {
     "name": "stdout",
     "output_type": "stream",
     "text": [
      "<class 'pandas.core.frame.DataFrame'>\n",
      "Int64Index: 2919 entries, 0 to 3882\n",
      "Data columns (total 3 columns):\n",
      " #   Column   Non-Null Count  Dtype \n",
      "---  ------   --------------  ----- \n",
      " 0   movieId  2919 non-null   object\n",
      " 1   title    2919 non-null   object\n",
      " 2   genres   2919 non-null   object\n",
      "dtypes: object(3)\n",
      "memory usage: 91.2+ KB\n"
     ]
    }
   ],
   "source": [
    "movies_data.info()"
   ]
  },
  {
   "cell_type": "markdown",
   "id": "9a7e30bd",
   "metadata": {},
   "source": [
    "#### **Remove all genres records that not exist in our unique genres values**"
   ]
  },
  {
   "cell_type": "code",
   "execution_count": 132,
   "id": "ccd5ba5d",
   "metadata": {},
   "outputs": [],
   "source": [
    "def label_genres(txt):\n",
    "    txt=txt.lower()\n",
    "    \n",
    "    gen_list=['action','adventure','animation',\"children's\",'comedy','crime','documentary',\\\n",
    "'drama','fantasy','film-noir','horror','musical','romance','sci-fi','thriller','western','war']\n",
    "    \n",
    "    if any(gen in txt for gen in gen_list):\n",
    "        return 1\n",
    "    else:\n",
    "        return 0\n",
    "            "
   ]
  },
  {
   "cell_type": "code",
   "execution_count": 133,
   "id": "9ab680d1",
   "metadata": {},
   "outputs": [],
   "source": [
    "movies_data['check_gen']=movies_data['genres'].apply(label_genres)"
   ]
  },
  {
   "cell_type": "code",
   "execution_count": 134,
   "id": "3507d024",
   "metadata": {},
   "outputs": [
    {
     "data": {
      "text/plain": [
       "1    2728\n",
       "0     191\n",
       "Name: check_gen, dtype: int64"
      ]
     },
     "execution_count": 134,
     "metadata": {},
     "output_type": "execute_result"
    }
   ],
   "source": [
    "movies_data['check_gen'].value_counts()"
   ]
  },
  {
   "cell_type": "code",
   "execution_count": 135,
   "id": "2061cc57",
   "metadata": {},
   "outputs": [
    {
     "data": {
      "text/html": [
       "<div>\n",
       "<style scoped>\n",
       "    .dataframe tbody tr th:only-of-type {\n",
       "        vertical-align: middle;\n",
       "    }\n",
       "\n",
       "    .dataframe tbody tr th {\n",
       "        vertical-align: top;\n",
       "    }\n",
       "\n",
       "    .dataframe thead th {\n",
       "        text-align: right;\n",
       "    }\n",
       "</style>\n",
       "<table border=\"1\" class=\"dataframe\">\n",
       "  <thead>\n",
       "    <tr style=\"text-align: right;\">\n",
       "      <th></th>\n",
       "      <th>movieId</th>\n",
       "      <th>title</th>\n",
       "      <th>genres</th>\n",
       "      <th>check_gen</th>\n",
       "    </tr>\n",
       "  </thead>\n",
       "  <tbody>\n",
       "    <tr>\n",
       "      <th>11</th>\n",
       "      <td>12</td>\n",
       "      <td>Dracula</td>\n",
       "      <td>Dead and Loving It (1995)</td>\n",
       "      <td>0</td>\n",
       "    </tr>\n",
       "    <tr>\n",
       "      <th>18</th>\n",
       "      <td>19</td>\n",
       "      <td>Ace Ventura</td>\n",
       "      <td>When Nature Calls (1995)</td>\n",
       "      <td>0</td>\n",
       "    </tr>\n",
       "    <tr>\n",
       "      <th>65</th>\n",
       "      <td>66</td>\n",
       "      <td>Lawnmower Man 2</td>\n",
       "      <td>Beyond Cyberspace (1996)</td>\n",
       "      <td>0</td>\n",
       "    </tr>\n",
       "    <tr>\n",
       "      <th>97</th>\n",
       "      <td>99</td>\n",
       "      <td>Heidi Fleiss</td>\n",
       "      <td>Hollywood Madam (1995)</td>\n",
       "      <td>0</td>\n",
       "    </tr>\n",
       "    <tr>\n",
       "      <th>163</th>\n",
       "      <td>165</td>\n",
       "      <td>Die Hard</td>\n",
       "      <td>With a Vengeance (1995)</td>\n",
       "      <td>0</td>\n",
       "    </tr>\n",
       "    <tr>\n",
       "      <th>...</th>\n",
       "      <td>...</td>\n",
       "      <td>...</td>\n",
       "      <td>...</td>\n",
       "      <td>...</td>\n",
       "    </tr>\n",
       "    <tr>\n",
       "      <th>3805</th>\n",
       "      <td>3889</td>\n",
       "      <td>Highlander</td>\n",
       "      <td>Endgame (2000)</td>\n",
       "      <td>0</td>\n",
       "    </tr>\n",
       "    <tr>\n",
       "      <th>3824</th>\n",
       "      <td>3908</td>\n",
       "      <td>Urban Legends</td>\n",
       "      <td>Final Cut (2000)</td>\n",
       "      <td>0</td>\n",
       "    </tr>\n",
       "    <tr>\n",
       "      <th>3834</th>\n",
       "      <td>3918</td>\n",
       "      <td>Hellbound</td>\n",
       "      <td>Hellraiser II (1988)</td>\n",
       "      <td>0</td>\n",
       "    </tr>\n",
       "    <tr>\n",
       "      <th>3835</th>\n",
       "      <td>3919</td>\n",
       "      <td>Hellraiser III</td>\n",
       "      <td>Hell on Earth (1992)</td>\n",
       "      <td>0</td>\n",
       "    </tr>\n",
       "    <tr>\n",
       "      <th>3861</th>\n",
       "      <td>3945</td>\n",
       "      <td>Digimon</td>\n",
       "      <td>The Movie (2000)</td>\n",
       "      <td>0</td>\n",
       "    </tr>\n",
       "  </tbody>\n",
       "</table>\n",
       "<p>191 rows × 4 columns</p>\n",
       "</div>"
      ],
      "text/plain": [
       "     movieId            title                      genres  check_gen\n",
       "11        12          Dracula   Dead and Loving It (1995)          0\n",
       "18        19      Ace Ventura    When Nature Calls (1995)          0\n",
       "65        66  Lawnmower Man 2    Beyond Cyberspace (1996)          0\n",
       "97        99     Heidi Fleiss      Hollywood Madam (1995)          0\n",
       "163      165         Die Hard     With a Vengeance (1995)          0\n",
       "...      ...              ...                         ...        ...\n",
       "3805    3889       Highlander              Endgame (2000)          0\n",
       "3824    3908    Urban Legends            Final Cut (2000)          0\n",
       "3834    3918        Hellbound        Hellraiser II (1988)          0\n",
       "3835    3919   Hellraiser III        Hell on Earth (1992)          0\n",
       "3861    3945          Digimon            The Movie (2000)          0\n",
       "\n",
       "[191 rows x 4 columns]"
      ]
     },
     "execution_count": 135,
     "metadata": {},
     "output_type": "execute_result"
    }
   ],
   "source": [
    "movies_data[movies_data['check_gen']==0]"
   ]
  },
  {
   "cell_type": "code",
   "execution_count": 136,
   "id": "dcd34e7b",
   "metadata": {},
   "outputs": [],
   "source": [
    "movies_data=movies_data[movies_data['check_gen']==1]"
   ]
  },
  {
   "cell_type": "code",
   "execution_count": 137,
   "id": "d0486b68",
   "metadata": {},
   "outputs": [
    {
     "data": {
      "text/plain": [
       "(2728, 4)"
      ]
     },
     "execution_count": 137,
     "metadata": {},
     "output_type": "execute_result"
    }
   ],
   "source": [
    "movies_data.shape"
   ]
  },
  {
   "cell_type": "code",
   "execution_count": 138,
   "id": "ad4430be",
   "metadata": {},
   "outputs": [
    {
     "name": "stderr",
     "output_type": "stream",
     "text": [
      "C:\\Users\\moham\\AppData\\Local\\Temp\\ipykernel_2892\\1358721156.py:1: SettingWithCopyWarning: \n",
      "A value is trying to be set on a copy of a slice from a DataFrame\n",
      "\n",
      "See the caveats in the documentation: https://pandas.pydata.org/pandas-docs/stable/user_guide/indexing.html#returning-a-view-versus-a-copy\n",
      "  movies_data.drop(['check_gen'],axis=1,inplace=True)\n"
     ]
    }
   ],
   "source": [
    "movies_data.drop(['check_gen'],axis=1,inplace=True)"
   ]
  },
  {
   "cell_type": "code",
   "execution_count": 139,
   "id": "cf899974",
   "metadata": {},
   "outputs": [
    {
     "data": {
      "text/html": [
       "<div>\n",
       "<style scoped>\n",
       "    .dataframe tbody tr th:only-of-type {\n",
       "        vertical-align: middle;\n",
       "    }\n",
       "\n",
       "    .dataframe tbody tr th {\n",
       "        vertical-align: top;\n",
       "    }\n",
       "\n",
       "    .dataframe thead th {\n",
       "        text-align: right;\n",
       "    }\n",
       "</style>\n",
       "<table border=\"1\" class=\"dataframe\">\n",
       "  <thead>\n",
       "    <tr style=\"text-align: right;\">\n",
       "      <th></th>\n",
       "      <th>movieId</th>\n",
       "      <th>title</th>\n",
       "      <th>genres</th>\n",
       "    </tr>\n",
       "  </thead>\n",
       "  <tbody>\n",
       "    <tr>\n",
       "      <th>0</th>\n",
       "      <td>1</td>\n",
       "      <td>Toy Story</td>\n",
       "      <td>Animation|Children's|Comedy</td>\n",
       "    </tr>\n",
       "    <tr>\n",
       "      <th>1</th>\n",
       "      <td>2</td>\n",
       "      <td>Jumanji</td>\n",
       "      <td>Adventure|Children's|Fantasy</td>\n",
       "    </tr>\n",
       "    <tr>\n",
       "      <th>2</th>\n",
       "      <td>3</td>\n",
       "      <td>Grumpier Old Men</td>\n",
       "      <td>Comedy|Romance</td>\n",
       "    </tr>\n",
       "    <tr>\n",
       "      <th>3</th>\n",
       "      <td>4</td>\n",
       "      <td>Waiting to Exhale</td>\n",
       "      <td>Comedy|Drama</td>\n",
       "    </tr>\n",
       "    <tr>\n",
       "      <th>4</th>\n",
       "      <td>5</td>\n",
       "      <td>Father of the Bride Part II</td>\n",
       "      <td>Comedy</td>\n",
       "    </tr>\n",
       "    <tr>\n",
       "      <th>...</th>\n",
       "      <td>...</td>\n",
       "      <td>...</td>\n",
       "      <td>...</td>\n",
       "    </tr>\n",
       "    <tr>\n",
       "      <th>3875</th>\n",
       "      <td>2885</td>\n",
       "      <td>Guinevere</td>\n",
       "      <td>Drama|Romance</td>\n",
       "    </tr>\n",
       "    <tr>\n",
       "      <th>3877</th>\n",
       "      <td>2887</td>\n",
       "      <td>Simon Sez</td>\n",
       "      <td>Drama</td>\n",
       "    </tr>\n",
       "    <tr>\n",
       "      <th>3878</th>\n",
       "      <td>2888</td>\n",
       "      <td>Drive Me Crazy</td>\n",
       "      <td>Comedy|Romance</td>\n",
       "    </tr>\n",
       "    <tr>\n",
       "      <th>3880</th>\n",
       "      <td>2890</td>\n",
       "      <td>Three Kings</td>\n",
       "      <td>Drama|War</td>\n",
       "    </tr>\n",
       "    <tr>\n",
       "      <th>3882</th>\n",
       "      <td>2892</td>\n",
       "      <td>New Rose Hotel</td>\n",
       "      <td>Action|Drama</td>\n",
       "    </tr>\n",
       "  </tbody>\n",
       "</table>\n",
       "<p>2728 rows × 3 columns</p>\n",
       "</div>"
      ],
      "text/plain": [
       "     movieId                         title                        genres\n",
       "0          1                    Toy Story    Animation|Children's|Comedy\n",
       "1          2                      Jumanji   Adventure|Children's|Fantasy\n",
       "2          3             Grumpier Old Men                 Comedy|Romance\n",
       "3          4            Waiting to Exhale                   Comedy|Drama\n",
       "4          5  Father of the Bride Part II                         Comedy\n",
       "...      ...                           ...                           ...\n",
       "3875    2885                    Guinevere                  Drama|Romance\n",
       "3877    2887                    Simon Sez                          Drama\n",
       "3878    2888               Drive Me Crazy                 Comedy|Romance\n",
       "3880    2890                  Three Kings                      Drama|War\n",
       "3882    2892               New Rose Hotel                   Action|Drama\n",
       "\n",
       "[2728 rows x 3 columns]"
      ]
     },
     "execution_count": 139,
     "metadata": {},
     "output_type": "execute_result"
    }
   ],
   "source": [
    "movies_data"
   ]
  },
  {
   "cell_type": "code",
   "execution_count": 140,
   "id": "320fd536",
   "metadata": {},
   "outputs": [
    {
     "name": "stdout",
     "output_type": "stream",
     "text": [
      "<class 'pandas.core.frame.DataFrame'>\n",
      "RangeIndex: 1000209 entries, 0 to 1000208\n",
      "Data columns (total 4 columns):\n",
      " #   Column     Non-Null Count    Dtype\n",
      "---  ------     --------------    -----\n",
      " 0   userId     1000209 non-null  int64\n",
      " 1   movieId    1000209 non-null  int64\n",
      " 2   rating     1000209 non-null  int64\n",
      " 3   timestamp  1000209 non-null  int64\n",
      "dtypes: int64(4)\n",
      "memory usage: 30.5 MB\n"
     ]
    }
   ],
   "source": [
    "ratings_data.info()"
   ]
  },
  {
   "cell_type": "code",
   "execution_count": 141,
   "id": "b8aa57cf",
   "metadata": {},
   "outputs": [
    {
     "data": {
      "text/plain": [
       "4    348971\n",
       "3    261197\n",
       "5    226310\n",
       "2    107557\n",
       "1     56174\n",
       "Name: rating, dtype: int64"
      ]
     },
     "execution_count": 141,
     "metadata": {},
     "output_type": "execute_result"
    }
   ],
   "source": [
    "ratings_data['rating'].value_counts()"
   ]
  },
  {
   "cell_type": "code",
   "execution_count": 142,
   "id": "ba710cde",
   "metadata": {},
   "outputs": [
    {
     "name": "stdout",
     "output_type": "stream",
     "text": [
      "<class 'pandas.core.frame.DataFrame'>\n",
      "RangeIndex: 6040 entries, 0 to 6039\n",
      "Data columns (total 5 columns):\n",
      " #   Column      Non-Null Count  Dtype \n",
      "---  ------      --------------  ----- \n",
      " 0   userId      6040 non-null   int64 \n",
      " 1   gender      6040 non-null   object\n",
      " 2   age         6040 non-null   int64 \n",
      " 3   occupation  6040 non-null   int64 \n",
      " 4   zip-code    6040 non-null   object\n",
      "dtypes: int64(3), object(2)\n",
      "memory usage: 236.1+ KB\n"
     ]
    }
   ],
   "source": [
    "user_data.info()"
   ]
  },
  {
   "cell_type": "code",
   "execution_count": 143,
   "id": "8a99777b",
   "metadata": {},
   "outputs": [],
   "source": [
    "val=ratings_data.groupby(['movieId','rating']).agg({'rating':['count']})\n"
   ]
  },
  {
   "cell_type": "code",
   "execution_count": 144,
   "id": "5a9020d6",
   "metadata": {},
   "outputs": [],
   "source": [
    "data=pd.DataFrame(val)"
   ]
  },
  {
   "cell_type": "code",
   "execution_count": 145,
   "id": "60eb7201",
   "metadata": {},
   "outputs": [],
   "source": [
    "data=data.reset_index()"
   ]
  },
  {
   "cell_type": "code",
   "execution_count": 146,
   "id": "921b3197",
   "metadata": {},
   "outputs": [],
   "source": [
    "data.columns=['movieId','rating','count']"
   ]
  },
  {
   "cell_type": "code",
   "execution_count": 147,
   "id": "7789a79a",
   "metadata": {},
   "outputs": [
    {
     "data": {
      "text/html": [
       "<div>\n",
       "<style scoped>\n",
       "    .dataframe tbody tr th:only-of-type {\n",
       "        vertical-align: middle;\n",
       "    }\n",
       "\n",
       "    .dataframe tbody tr th {\n",
       "        vertical-align: top;\n",
       "    }\n",
       "\n",
       "    .dataframe thead th {\n",
       "        text-align: right;\n",
       "    }\n",
       "</style>\n",
       "<table border=\"1\" class=\"dataframe\">\n",
       "  <thead>\n",
       "    <tr style=\"text-align: right;\">\n",
       "      <th></th>\n",
       "      <th>movieId</th>\n",
       "      <th>rating</th>\n",
       "      <th>count</th>\n",
       "    </tr>\n",
       "  </thead>\n",
       "  <tbody>\n",
       "    <tr>\n",
       "      <th>0</th>\n",
       "      <td>1</td>\n",
       "      <td>1</td>\n",
       "      <td>16</td>\n",
       "    </tr>\n",
       "    <tr>\n",
       "      <th>1</th>\n",
       "      <td>1</td>\n",
       "      <td>2</td>\n",
       "      <td>61</td>\n",
       "    </tr>\n",
       "    <tr>\n",
       "      <th>2</th>\n",
       "      <td>1</td>\n",
       "      <td>3</td>\n",
       "      <td>345</td>\n",
       "    </tr>\n",
       "    <tr>\n",
       "      <th>3</th>\n",
       "      <td>1</td>\n",
       "      <td>4</td>\n",
       "      <td>835</td>\n",
       "    </tr>\n",
       "    <tr>\n",
       "      <th>4</th>\n",
       "      <td>1</td>\n",
       "      <td>5</td>\n",
       "      <td>820</td>\n",
       "    </tr>\n",
       "    <tr>\n",
       "      <th>...</th>\n",
       "      <td>...</td>\n",
       "      <td>...</td>\n",
       "      <td>...</td>\n",
       "    </tr>\n",
       "    <tr>\n",
       "      <th>16907</th>\n",
       "      <td>3952</td>\n",
       "      <td>1</td>\n",
       "      <td>9</td>\n",
       "    </tr>\n",
       "    <tr>\n",
       "      <th>16908</th>\n",
       "      <td>3952</td>\n",
       "      <td>2</td>\n",
       "      <td>26</td>\n",
       "    </tr>\n",
       "    <tr>\n",
       "      <th>16909</th>\n",
       "      <td>3952</td>\n",
       "      <td>3</td>\n",
       "      <td>89</td>\n",
       "    </tr>\n",
       "    <tr>\n",
       "      <th>16910</th>\n",
       "      <td>3952</td>\n",
       "      <td>4</td>\n",
       "      <td>181</td>\n",
       "    </tr>\n",
       "    <tr>\n",
       "      <th>16911</th>\n",
       "      <td>3952</td>\n",
       "      <td>5</td>\n",
       "      <td>83</td>\n",
       "    </tr>\n",
       "  </tbody>\n",
       "</table>\n",
       "<p>16912 rows × 3 columns</p>\n",
       "</div>"
      ],
      "text/plain": [
       "       movieId  rating  count\n",
       "0            1       1     16\n",
       "1            1       2     61\n",
       "2            1       3    345\n",
       "3            1       4    835\n",
       "4            1       5    820\n",
       "...        ...     ...    ...\n",
       "16907     3952       1      9\n",
       "16908     3952       2     26\n",
       "16909     3952       3     89\n",
       "16910     3952       4    181\n",
       "16911     3952       5     83\n",
       "\n",
       "[16912 rows x 3 columns]"
      ]
     },
     "execution_count": 147,
     "metadata": {},
     "output_type": "execute_result"
    }
   ],
   "source": [
    "data"
   ]
  },
  {
   "cell_type": "code",
   "execution_count": 148,
   "id": "3591305a",
   "metadata": {},
   "outputs": [],
   "source": [
    "movie_id=[]\n",
    "movie_rate=[]\n",
    "for i in data['movieId'].unique():\n",
    "    movie_id.append(i)\n",
    "   \n",
    "    review_count_sum=0\n",
    "    review_cal_count=0\n",
    "    for j in range(1,6):\n",
    "        temp=data[(data['movieId']==i) & (data['rating']==j)]\n",
    "        if temp.shape[0] !=0:\n",
    "            review_count_sum+=int(temp['count'].values[0])\n",
    "            review_cal_count+=int(temp['count'].values[0])*j\n",
    "        \n",
    "    movie_rate.append(round((review_cal_count/review_count_sum),1))"
   ]
  },
  {
   "cell_type": "code",
   "execution_count": 149,
   "id": "9069cb3f",
   "metadata": {},
   "outputs": [
    {
     "data": {
      "text/plain": [
       "[1, 2, 3, 4, 5]"
      ]
     },
     "execution_count": 149,
     "metadata": {},
     "output_type": "execute_result"
    }
   ],
   "source": [
    "movie_id[:5]"
   ]
  },
  {
   "cell_type": "code",
   "execution_count": 150,
   "id": "6f630ca1",
   "metadata": {},
   "outputs": [
    {
     "data": {
      "text/plain": [
       "[4.1, 3.2, 3.0, 2.7, 3.0]"
      ]
     },
     "execution_count": 150,
     "metadata": {},
     "output_type": "execute_result"
    }
   ],
   "source": [
    "movie_rate[:5]"
   ]
  },
  {
   "cell_type": "code",
   "execution_count": 151,
   "id": "53774fac",
   "metadata": {},
   "outputs": [],
   "source": [
    "def rate(movie_d):\n",
    "    movie_d=int(movie_d)\n",
    "    try:\n",
    "        index=movie_id.index(movie_d)\n",
    "        return movie_rate[index]\n",
    "    except:\n",
    "        return 0\n",
    "    "
   ]
  },
  {
   "cell_type": "code",
   "execution_count": 152,
   "id": "96fc6b00",
   "metadata": {},
   "outputs": [
    {
     "name": "stderr",
     "output_type": "stream",
     "text": [
      "C:\\Users\\moham\\AppData\\Local\\Temp\\ipykernel_2892\\3260656707.py:1: SettingWithCopyWarning: \n",
      "A value is trying to be set on a copy of a slice from a DataFrame.\n",
      "Try using .loc[row_indexer,col_indexer] = value instead\n",
      "\n",
      "See the caveats in the documentation: https://pandas.pydata.org/pandas-docs/stable/user_guide/indexing.html#returning-a-view-versus-a-copy\n",
      "  movies_data['rate']=movies_data['movieId'].apply(rate)\n"
     ]
    }
   ],
   "source": [
    "movies_data['rate']=movies_data['movieId'].apply(rate)"
   ]
  },
  {
   "cell_type": "code",
   "execution_count": 153,
   "id": "21ca3986",
   "metadata": {},
   "outputs": [],
   "source": [
    "movies_data.to_csv(\"final_movie_data.csv\",index=False)"
   ]
  },
  {
   "cell_type": "code",
   "execution_count": 154,
   "id": "9177f35d",
   "metadata": {},
   "outputs": [
    {
     "data": {
      "image/png": "[encoded data removed]",
      "text/plain": [
       "<Figure size 720x288 with 1 Axes>"
      ]
     },
     "metadata": {
      "needs_background": "light"
     },
     "output_type": "display_data"
    }
   ],
   "source": [
    "plt.figure(figsize=(10,4))\n",
    "movies_data['rate'].hist()\n",
    "plt.show()"
   ]
  },
  {
   "cell_type": "markdown",
   "id": "e752327d",
   "metadata": {},
   "source": [
    "## **Recommendation System using Content Based Filtering**"
   ]
  },
  {
   "cell_type": "code",
   "execution_count": 155,
   "id": "9e0b18df",
   "metadata": {},
   "outputs": [
    {
     "data": {
      "text/html": [
       "<div>\n",
       "<style scoped>\n",
       "    .dataframe tbody tr th:only-of-type {\n",
       "        vertical-align: middle;\n",
       "    }\n",
       "\n",
       "    .dataframe tbody tr th {\n",
       "        vertical-align: top;\n",
       "    }\n",
       "\n",
       "    .dataframe thead th {\n",
       "        text-align: right;\n",
       "    }\n",
       "</style>\n",
       "<table border=\"1\" class=\"dataframe\">\n",
       "  <thead>\n",
       "    <tr style=\"text-align: right;\">\n",
       "      <th></th>\n",
       "      <th>movieId</th>\n",
       "      <th>title</th>\n",
       "      <th>genres</th>\n",
       "      <th>rate</th>\n",
       "    </tr>\n",
       "  </thead>\n",
       "  <tbody>\n",
       "    <tr>\n",
       "      <th>0</th>\n",
       "      <td>1</td>\n",
       "      <td>Toy Story</td>\n",
       "      <td>Animation|Children's|Comedy</td>\n",
       "      <td>4.1</td>\n",
       "    </tr>\n",
       "    <tr>\n",
       "      <th>1</th>\n",
       "      <td>2</td>\n",
       "      <td>Jumanji</td>\n",
       "      <td>Adventure|Children's|Fantasy</td>\n",
       "      <td>3.2</td>\n",
       "    </tr>\n",
       "    <tr>\n",
       "      <th>2</th>\n",
       "      <td>3</td>\n",
       "      <td>Grumpier Old Men</td>\n",
       "      <td>Comedy|Romance</td>\n",
       "      <td>3.0</td>\n",
       "    </tr>\n",
       "    <tr>\n",
       "      <th>3</th>\n",
       "      <td>4</td>\n",
       "      <td>Waiting to Exhale</td>\n",
       "      <td>Comedy|Drama</td>\n",
       "      <td>2.7</td>\n",
       "    </tr>\n",
       "    <tr>\n",
       "      <th>4</th>\n",
       "      <td>5</td>\n",
       "      <td>Father of the Bride Part II</td>\n",
       "      <td>Comedy</td>\n",
       "      <td>3.0</td>\n",
       "    </tr>\n",
       "    <tr>\n",
       "      <th>...</th>\n",
       "      <td>...</td>\n",
       "      <td>...</td>\n",
       "      <td>...</td>\n",
       "      <td>...</td>\n",
       "    </tr>\n",
       "    <tr>\n",
       "      <th>3875</th>\n",
       "      <td>2885</td>\n",
       "      <td>Guinevere</td>\n",
       "      <td>Drama|Romance</td>\n",
       "      <td>3.4</td>\n",
       "    </tr>\n",
       "    <tr>\n",
       "      <th>3877</th>\n",
       "      <td>2887</td>\n",
       "      <td>Simon Sez</td>\n",
       "      <td>Drama</td>\n",
       "      <td>2.2</td>\n",
       "    </tr>\n",
       "    <tr>\n",
       "      <th>3878</th>\n",
       "      <td>2888</td>\n",
       "      <td>Drive Me Crazy</td>\n",
       "      <td>Comedy|Romance</td>\n",
       "      <td>2.8</td>\n",
       "    </tr>\n",
       "    <tr>\n",
       "      <th>3880</th>\n",
       "      <td>2890</td>\n",
       "      <td>Three Kings</td>\n",
       "      <td>Drama|War</td>\n",
       "      <td>3.8</td>\n",
       "    </tr>\n",
       "    <tr>\n",
       "      <th>3882</th>\n",
       "      <td>2892</td>\n",
       "      <td>New Rose Hotel</td>\n",
       "      <td>Action|Drama</td>\n",
       "      <td>2.5</td>\n",
       "    </tr>\n",
       "  </tbody>\n",
       "</table>\n",
       "<p>2728 rows × 4 columns</p>\n",
       "</div>"
      ],
      "text/plain": [
       "     movieId                         title                        genres  rate\n",
       "0          1                    Toy Story    Animation|Children's|Comedy   4.1\n",
       "1          2                      Jumanji   Adventure|Children's|Fantasy   3.2\n",
       "2          3             Grumpier Old Men                 Comedy|Romance   3.0\n",
       "3          4            Waiting to Exhale                   Comedy|Drama   2.7\n",
       "4          5  Father of the Bride Part II                         Comedy   3.0\n",
       "...      ...                           ...                           ...   ...\n",
       "3875    2885                    Guinevere                  Drama|Romance   3.4\n",
       "3877    2887                    Simon Sez                          Drama   2.2\n",
       "3878    2888               Drive Me Crazy                 Comedy|Romance   2.8\n",
       "3880    2890                  Three Kings                      Drama|War   3.8\n",
       "3882    2892               New Rose Hotel                   Action|Drama   2.5\n",
       "\n",
       "[2728 rows x 4 columns]"
      ]
     },
     "execution_count": 155,
     "metadata": {},
     "output_type": "execute_result"
    }
   ],
   "source": [
    "movies_data"
   ]
  },
  {
   "cell_type": "code",
   "execution_count": 156,
   "id": "1bb7e3e1",
   "metadata": {
    "scrolled": true
   },
   "outputs": [
    {
     "name": "stdout",
     "output_type": "stream",
     "text": [
      "Shape of the content table : (2728, 22)\n"
     ]
    },
    {
     "name": "stderr",
     "output_type": "stream",
     "text": [
      "C:\\Users\\moham\\anaconda3\\lib\\site-packages\\sklearn\\utils\\deprecation.py:87: FutureWarning: Function get_feature_names is deprecated; get_feature_names is deprecated in 1.0 and will be removed in 1.2. Please use get_feature_names_out instead.\n",
      "  warnings.warn(msg, category=FutureWarning)\n"
     ]
    },
    {
     "data": {
      "text/html": [
       "<div>\n",
       "<style scoped>\n",
       "    .dataframe tbody tr th:only-of-type {\n",
       "        vertical-align: middle;\n",
       "    }\n",
       "\n",
       "    .dataframe tbody tr th {\n",
       "        vertical-align: top;\n",
       "    }\n",
       "\n",
       "    .dataframe thead th {\n",
       "        text-align: right;\n",
       "    }\n",
       "</style>\n",
       "<table border=\"1\" class=\"dataframe\">\n",
       "  <thead>\n",
       "    <tr style=\"text-align: right;\">\n",
       "      <th></th>\n",
       "      <th>action</th>\n",
       "      <th>adventure</th>\n",
       "      <th>animation</th>\n",
       "      <th>children</th>\n",
       "      <th>comedy</th>\n",
       "      <th>crime</th>\n",
       "      <th>documentary</th>\n",
       "      <th>drama</th>\n",
       "      <th>dream</th>\n",
       "      <th>fantasy</th>\n",
       "      <th>...</th>\n",
       "      <th>horror</th>\n",
       "      <th>musical</th>\n",
       "      <th>mystery</th>\n",
       "      <th>noir</th>\n",
       "      <th>romance</th>\n",
       "      <th>sci</th>\n",
       "      <th>thriller</th>\n",
       "      <th>war</th>\n",
       "      <th>warriors</th>\n",
       "      <th>western</th>\n",
       "    </tr>\n",
       "  </thead>\n",
       "  <tbody>\n",
       "    <tr>\n",
       "      <th>0</th>\n",
       "      <td>0</td>\n",
       "      <td>0</td>\n",
       "      <td>1</td>\n",
       "      <td>1</td>\n",
       "      <td>1</td>\n",
       "      <td>0</td>\n",
       "      <td>0</td>\n",
       "      <td>0</td>\n",
       "      <td>0</td>\n",
       "      <td>0</td>\n",
       "      <td>...</td>\n",
       "      <td>0</td>\n",
       "      <td>0</td>\n",
       "      <td>0</td>\n",
       "      <td>0</td>\n",
       "      <td>0</td>\n",
       "      <td>0</td>\n",
       "      <td>0</td>\n",
       "      <td>0</td>\n",
       "      <td>0</td>\n",
       "      <td>0</td>\n",
       "    </tr>\n",
       "    <tr>\n",
       "      <th>1</th>\n",
       "      <td>0</td>\n",
       "      <td>1</td>\n",
       "      <td>0</td>\n",
       "      <td>1</td>\n",
       "      <td>0</td>\n",
       "      <td>0</td>\n",
       "      <td>0</td>\n",
       "      <td>0</td>\n",
       "      <td>0</td>\n",
       "      <td>1</td>\n",
       "      <td>...</td>\n",
       "      <td>0</td>\n",
       "      <td>0</td>\n",
       "      <td>0</td>\n",
       "      <td>0</td>\n",
       "      <td>0</td>\n",
       "      <td>0</td>\n",
       "      <td>0</td>\n",
       "      <td>0</td>\n",
       "      <td>0</td>\n",
       "      <td>0</td>\n",
       "    </tr>\n",
       "    <tr>\n",
       "      <th>2</th>\n",
       "      <td>0</td>\n",
       "      <td>0</td>\n",
       "      <td>0</td>\n",
       "      <td>0</td>\n",
       "      <td>1</td>\n",
       "      <td>0</td>\n",
       "      <td>0</td>\n",
       "      <td>0</td>\n",
       "      <td>0</td>\n",
       "      <td>0</td>\n",
       "      <td>...</td>\n",
       "      <td>0</td>\n",
       "      <td>0</td>\n",
       "      <td>0</td>\n",
       "      <td>0</td>\n",
       "      <td>1</td>\n",
       "      <td>0</td>\n",
       "      <td>0</td>\n",
       "      <td>0</td>\n",
       "      <td>0</td>\n",
       "      <td>0</td>\n",
       "    </tr>\n",
       "    <tr>\n",
       "      <th>3</th>\n",
       "      <td>0</td>\n",
       "      <td>0</td>\n",
       "      <td>0</td>\n",
       "      <td>0</td>\n",
       "      <td>1</td>\n",
       "      <td>0</td>\n",
       "      <td>0</td>\n",
       "      <td>1</td>\n",
       "      <td>0</td>\n",
       "      <td>0</td>\n",
       "      <td>...</td>\n",
       "      <td>0</td>\n",
       "      <td>0</td>\n",
       "      <td>0</td>\n",
       "      <td>0</td>\n",
       "      <td>0</td>\n",
       "      <td>0</td>\n",
       "      <td>0</td>\n",
       "      <td>0</td>\n",
       "      <td>0</td>\n",
       "      <td>0</td>\n",
       "    </tr>\n",
       "    <tr>\n",
       "      <th>4</th>\n",
       "      <td>0</td>\n",
       "      <td>0</td>\n",
       "      <td>0</td>\n",
       "      <td>0</td>\n",
       "      <td>1</td>\n",
       "      <td>0</td>\n",
       "      <td>0</td>\n",
       "      <td>0</td>\n",
       "      <td>0</td>\n",
       "      <td>0</td>\n",
       "      <td>...</td>\n",
       "      <td>0</td>\n",
       "      <td>0</td>\n",
       "      <td>0</td>\n",
       "      <td>0</td>\n",
       "      <td>0</td>\n",
       "      <td>0</td>\n",
       "      <td>0</td>\n",
       "      <td>0</td>\n",
       "      <td>0</td>\n",
       "      <td>0</td>\n",
       "    </tr>\n",
       "  </tbody>\n",
       "</table>\n",
       "<p>5 rows × 22 columns</p>\n",
       "</div>"
      ],
      "text/plain": [
       "   action  adventure  animation  children  comedy  crime  documentary  drama  \\\n",
       "0       0          0          1         1       1      0            0      0   \n",
       "1       0          1          0         1       0      0            0      0   \n",
       "2       0          0          0         0       1      0            0      0   \n",
       "3       0          0          0         0       1      0            0      1   \n",
       "4       0          0          0         0       1      0            0      0   \n",
       "\n",
       "   dream  fantasy  ...  horror  musical  mystery  noir  romance  sci  \\\n",
       "0      0        0  ...       0        0        0     0        0    0   \n",
       "1      0        1  ...       0        0        0     0        0    0   \n",
       "2      0        0  ...       0        0        0     0        1    0   \n",
       "3      0        0  ...       0        0        0     0        0    0   \n",
       "4      0        0  ...       0        0        0     0        0    0   \n",
       "\n",
       "   thriller  war  warriors  western  \n",
       "0         0    0         0        0  \n",
       "1         0    0         0        0  \n",
       "2         0    0         0        0  \n",
       "3         0    0         0        0  \n",
       "4         0    0         0        0  \n",
       "\n",
       "[5 rows x 22 columns]"
      ]
     },
     "execution_count": 156,
     "metadata": {},
     "output_type": "execute_result"
    }
   ],
   "source": [
    "from sklearn.feature_extraction.text import CountVectorizer\n",
    "vectorizer = CountVectorizer(stop_words='english')\n",
    "genres = vectorizer.fit_transform(movies_data.genres).toarray()\n",
    "contents = pd.DataFrame(genres,columns=vectorizer.get_feature_names())\n",
    "print('Shape of the content table :',contents.shape)\n",
    "contents.head()"
   ]
  },
  {
   "cell_type": "code",
   "execution_count": 157,
   "id": "4f6f79c8",
   "metadata": {},
   "outputs": [
    {
     "data": {
      "text/plain": [
       "Index(['action', 'adventure', 'animation', 'children', 'comedy', 'crime',\n",
       "       'documentary', 'drama', 'dream', 'fantasy', 'fi', 'film', 'horror',\n",
       "       'musical', 'mystery', 'noir', 'romance', 'sci', 'thriller', 'war',\n",
       "       'warriors', 'western'],\n",
       "      dtype='object')"
      ]
     },
     "execution_count": 157,
     "metadata": {},
     "output_type": "execute_result"
    }
   ],
   "source": [
    "contents.columns"
   ]
  },
  {
   "cell_type": "code",
   "execution_count": 158,
   "id": "b1f85395",
   "metadata": {},
   "outputs": [],
   "source": [
    "contents.to_csv('final_contents.csv',index=False)"
   ]
  },
  {
   "cell_type": "code",
   "execution_count": 159,
   "id": "7eec68eb",
   "metadata": {},
   "outputs": [
    {
     "data": {
      "text/plain": [
       "NearestNeighbors(metric='cosine')"
      ]
     },
     "execution_count": 159,
     "metadata": {},
     "output_type": "execute_result"
    }
   ],
   "source": [
    "from sklearn.neighbors import NearestNeighbors\n",
    "nearset = NearestNeighbors(metric='cosine')\n",
    "nearset.fit(contents)"
   ]
  },
  {
   "cell_type": "code",
   "execution_count": 160,
   "id": "0ab2a7c4",
   "metadata": {},
   "outputs": [],
   "source": [
    "import pickle \n",
    "knnPickle = open('knnpickle_file_content.pkl', 'wb') \n",
    "      \n",
    "# source, destination \n",
    "pickle.dump(nearset, knnPickle)  \n",
    "\n",
    "# close the file\n",
    "knnPickle.close()\n",
    "                "
   ]
  },
  {
   "cell_type": "code",
   "execution_count": 161,
   "id": "1fdf57d6",
   "metadata": {},
   "outputs": [],
   "source": [
    "with open('knnpickle_file_content.pkl', 'rb') as file:\n",
    "    knn_model=pickle.load(file)"
   ]
  },
  {
   "cell_type": "code",
   "execution_count": 170,
   "id": "4ac159c0",
   "metadata": {},
   "outputs": [],
   "source": [
    "def recommend_on_movie_content_based(movie,n_reccomend = 5):\n",
    "    print(movie)\n",
    "   \n",
    "    input_movie_index=movies_data[movies_data['title'].str.strip()==movie].index[0]\n",
    "    input_movie_generes=contents.iloc[input_movie_index]\n",
    "    print(input_movie_index) \n",
    "    print(input_movie_generes)\n",
    "    _,neighbors=knn_model.kneighbors([input_movie_generes],n_neighbors=n_reccomend+1)\n",
    "    \n",
    "    recommeds_movies=[]\n",
    "    recommends_rate=[]\n",
    "    for i in neighbors[0]:\n",
    "        if i !=input_movie_index:\n",
    "            recommeds_movies.append(movies_data.iloc[i]['title'])\n",
    "            recommends_rate.append((movies_data.iloc[i]['rate']))\n",
    "    #sort based on movies rates \n",
    "    recommends_rate,recommeds_movies= zip(*sorted(zip(recommends_rate,recommeds_movies)))\n",
    "    \n",
    "    \n",
    "    \n",
    "    return [recommeds_movies[-1-i]+'- '+str(recommends_rate[-1-i]) for i in range(0,n_reccomend)]"
   ]
  },
  {
   "cell_type": "code",
   "execution_count": 171,
   "id": "040e6711",
   "metadata": {},
   "outputs": [],
   "source": [
    "data=pd.read_csv('final_movie_data.csv',encoding='latin-1')"
   ]
  },
  {
   "cell_type": "code",
   "execution_count": 172,
   "id": "0cb2d1fd",
   "metadata": {},
   "outputs": [],
   "source": [
    "data_contents=pd.read_csv('final_contents.csv',encoding='latin-1')"
   ]
  },
  {
   "cell_type": "code",
   "execution_count": 173,
   "id": "b23c6cff",
   "metadata": {},
   "outputs": [
    {
     "name": "stdout",
     "output_type": "stream",
     "text": [
      "Father of the Bride Part II\n",
      "4\n",
      "action         0\n",
      "adventure      0\n",
      "animation      0\n",
      "children       0\n",
      "comedy         1\n",
      "crime          0\n",
      "documentary    0\n",
      "drama          0\n",
      "dream          0\n",
      "fantasy        0\n",
      "fi             0\n",
      "film           0\n",
      "horror         0\n",
      "musical        0\n",
      "mystery        0\n",
      "noir           0\n",
      "romance        0\n",
      "sci            0\n",
      "thriller       0\n",
      "war            0\n",
      "warriors       0\n",
      "western        0\n",
      "Name: 4, dtype: int64\n"
     ]
    },
    {
     "name": "stderr",
     "output_type": "stream",
     "text": [
      "C:\\Users\\moham\\anaconda3\\lib\\site-packages\\sklearn\\base.py:450: UserWarning: X does not have valid feature names, but NearestNeighbors was fitted with feature names\n",
      "  warnings.warn(\n"
     ]
    },
    {
     "data": {
      "text/plain": [
       "['Being John Malkovich - 4.1',\n",
       " 'Crimes and Misdemeanors - 4.0',\n",
       " 'Dazed and Confused - 3.7',\n",
       " 'Fatal Instinct - 2.6',\n",
       " \"Krippendorf's Tribe - 2.4\"]"
      ]
     },
     "execution_count": 173,
     "metadata": {},
     "output_type": "execute_result"
    }
   ],
   "source": [
    "recommend_on_movie_content_based('Father of the Bride Part II')"
   ]
  },
  {
   "cell_type": "markdown",
   "id": "03811621",
   "metadata": {},
   "source": [
    "## **Recommendation System using Collaborative Filtering**"
   ]
  },
  {
   "cell_type": "code",
   "execution_count": 166,
   "id": "eca56517",
   "metadata": {},
   "outputs": [
    {
     "name": "stdout",
     "output_type": "stream",
     "text": [
      "Shape of this pivot table : (3706, 6040)\n"
     ]
    },
    {
     "data": {
      "text/html": [
       "<div>\n",
       "<style scoped>\n",
       "    .dataframe tbody tr th:only-of-type {\n",
       "        vertical-align: middle;\n",
       "    }\n",
       "\n",
       "    .dataframe tbody tr th {\n",
       "        vertical-align: top;\n",
       "    }\n",
       "\n",
       "    .dataframe thead th {\n",
       "        text-align: right;\n",
       "    }\n",
       "</style>\n",
       "<table border=\"1\" class=\"dataframe\">\n",
       "  <thead>\n",
       "    <tr style=\"text-align: right;\">\n",
       "      <th>userId</th>\n",
       "      <th>1</th>\n",
       "      <th>2</th>\n",
       "      <th>3</th>\n",
       "      <th>4</th>\n",
       "      <th>5</th>\n",
       "      <th>6</th>\n",
       "      <th>7</th>\n",
       "      <th>8</th>\n",
       "      <th>9</th>\n",
       "      <th>10</th>\n",
       "      <th>...</th>\n",
       "      <th>6031</th>\n",
       "      <th>6032</th>\n",
       "      <th>6033</th>\n",
       "      <th>6034</th>\n",
       "      <th>6035</th>\n",
       "      <th>6036</th>\n",
       "      <th>6037</th>\n",
       "      <th>6038</th>\n",
       "      <th>6039</th>\n",
       "      <th>6040</th>\n",
       "    </tr>\n",
       "    <tr>\n",
       "      <th>movieId</th>\n",
       "      <th></th>\n",
       "      <th></th>\n",
       "      <th></th>\n",
       "      <th></th>\n",
       "      <th></th>\n",
       "      <th></th>\n",
       "      <th></th>\n",
       "      <th></th>\n",
       "      <th></th>\n",
       "      <th></th>\n",
       "      <th></th>\n",
       "      <th></th>\n",
       "      <th></th>\n",
       "      <th></th>\n",
       "      <th></th>\n",
       "      <th></th>\n",
       "      <th></th>\n",
       "      <th></th>\n",
       "      <th></th>\n",
       "      <th></th>\n",
       "      <th></th>\n",
       "    </tr>\n",
       "  </thead>\n",
       "  <tbody>\n",
       "    <tr>\n",
       "      <th>1</th>\n",
       "      <td>5.0</td>\n",
       "      <td>0.0</td>\n",
       "      <td>0.0</td>\n",
       "      <td>0.0</td>\n",
       "      <td>0.0</td>\n",
       "      <td>4.0</td>\n",
       "      <td>0.0</td>\n",
       "      <td>4.0</td>\n",
       "      <td>5.0</td>\n",
       "      <td>5.0</td>\n",
       "      <td>...</td>\n",
       "      <td>0.0</td>\n",
       "      <td>4.0</td>\n",
       "      <td>0.0</td>\n",
       "      <td>0.0</td>\n",
       "      <td>4.0</td>\n",
       "      <td>0.0</td>\n",
       "      <td>0.0</td>\n",
       "      <td>0.0</td>\n",
       "      <td>0.0</td>\n",
       "      <td>3.0</td>\n",
       "    </tr>\n",
       "    <tr>\n",
       "      <th>2</th>\n",
       "      <td>0.0</td>\n",
       "      <td>0.0</td>\n",
       "      <td>0.0</td>\n",
       "      <td>0.0</td>\n",
       "      <td>0.0</td>\n",
       "      <td>0.0</td>\n",
       "      <td>0.0</td>\n",
       "      <td>0.0</td>\n",
       "      <td>0.0</td>\n",
       "      <td>5.0</td>\n",
       "      <td>...</td>\n",
       "      <td>0.0</td>\n",
       "      <td>0.0</td>\n",
       "      <td>0.0</td>\n",
       "      <td>0.0</td>\n",
       "      <td>0.0</td>\n",
       "      <td>0.0</td>\n",
       "      <td>0.0</td>\n",
       "      <td>0.0</td>\n",
       "      <td>0.0</td>\n",
       "      <td>0.0</td>\n",
       "    </tr>\n",
       "    <tr>\n",
       "      <th>3</th>\n",
       "      <td>0.0</td>\n",
       "      <td>0.0</td>\n",
       "      <td>0.0</td>\n",
       "      <td>0.0</td>\n",
       "      <td>0.0</td>\n",
       "      <td>0.0</td>\n",
       "      <td>0.0</td>\n",
       "      <td>0.0</td>\n",
       "      <td>0.0</td>\n",
       "      <td>0.0</td>\n",
       "      <td>...</td>\n",
       "      <td>0.0</td>\n",
       "      <td>0.0</td>\n",
       "      <td>0.0</td>\n",
       "      <td>0.0</td>\n",
       "      <td>1.0</td>\n",
       "      <td>0.0</td>\n",
       "      <td>0.0</td>\n",
       "      <td>0.0</td>\n",
       "      <td>0.0</td>\n",
       "      <td>0.0</td>\n",
       "    </tr>\n",
       "    <tr>\n",
       "      <th>4</th>\n",
       "      <td>0.0</td>\n",
       "      <td>0.0</td>\n",
       "      <td>0.0</td>\n",
       "      <td>0.0</td>\n",
       "      <td>0.0</td>\n",
       "      <td>0.0</td>\n",
       "      <td>0.0</td>\n",
       "      <td>3.0</td>\n",
       "      <td>0.0</td>\n",
       "      <td>0.0</td>\n",
       "      <td>...</td>\n",
       "      <td>0.0</td>\n",
       "      <td>0.0</td>\n",
       "      <td>0.0</td>\n",
       "      <td>0.0</td>\n",
       "      <td>2.0</td>\n",
       "      <td>2.0</td>\n",
       "      <td>0.0</td>\n",
       "      <td>0.0</td>\n",
       "      <td>0.0</td>\n",
       "      <td>0.0</td>\n",
       "    </tr>\n",
       "    <tr>\n",
       "      <th>5</th>\n",
       "      <td>0.0</td>\n",
       "      <td>0.0</td>\n",
       "      <td>0.0</td>\n",
       "      <td>0.0</td>\n",
       "      <td>0.0</td>\n",
       "      <td>0.0</td>\n",
       "      <td>0.0</td>\n",
       "      <td>0.0</td>\n",
       "      <td>0.0</td>\n",
       "      <td>0.0</td>\n",
       "      <td>...</td>\n",
       "      <td>0.0</td>\n",
       "      <td>0.0</td>\n",
       "      <td>0.0</td>\n",
       "      <td>0.0</td>\n",
       "      <td>1.0</td>\n",
       "      <td>0.0</td>\n",
       "      <td>0.0</td>\n",
       "      <td>0.0</td>\n",
       "      <td>0.0</td>\n",
       "      <td>0.0</td>\n",
       "    </tr>\n",
       "  </tbody>\n",
       "</table>\n",
       "<p>5 rows × 6040 columns</p>\n",
       "</div>"
      ],
      "text/plain": [
       "userId   1     2     3     4     5     6     7     8     9     10    ...  \\\n",
       "movieId                                                              ...   \n",
       "1         5.0   0.0   0.0   0.0   0.0   4.0   0.0   4.0   5.0   5.0  ...   \n",
       "2         0.0   0.0   0.0   0.0   0.0   0.0   0.0   0.0   0.0   5.0  ...   \n",
       "3         0.0   0.0   0.0   0.0   0.0   0.0   0.0   0.0   0.0   0.0  ...   \n",
       "4         0.0   0.0   0.0   0.0   0.0   0.0   0.0   3.0   0.0   0.0  ...   \n",
       "5         0.0   0.0   0.0   0.0   0.0   0.0   0.0   0.0   0.0   0.0  ...   \n",
       "\n",
       "userId   6031  6032  6033  6034  6035  6036  6037  6038  6039  6040  \n",
       "movieId                                                              \n",
       "1         0.0   4.0   0.0   0.0   4.0   0.0   0.0   0.0   0.0   3.0  \n",
       "2         0.0   0.0   0.0   0.0   0.0   0.0   0.0   0.0   0.0   0.0  \n",
       "3         0.0   0.0   0.0   0.0   1.0   0.0   0.0   0.0   0.0   0.0  \n",
       "4         0.0   0.0   0.0   0.0   2.0   2.0   0.0   0.0   0.0   0.0  \n",
       "5         0.0   0.0   0.0   0.0   1.0   0.0   0.0   0.0   0.0   0.0  \n",
       "\n",
       "[5 rows x 6040 columns]"
      ]
     },
     "execution_count": 166,
     "metadata": {},
     "output_type": "execute_result"
    }
   ],
   "source": [
    "rating_pivot = ratings_data.pivot_table(values='rating',columns='userId',index='movieId').fillna(0)\n",
    "print('Shape of this pivot table :',rating_pivot.shape)\n",
    "rating_pivot.head()"
   ]
  },
  {
   "cell_type": "code",
   "execution_count": 167,
   "id": "725e317a",
   "metadata": {},
   "outputs": [
    {
     "data": {
      "text/plain": [
       "NearestNeighbors(metric='cosine')"
      ]
     },
     "execution_count": 167,
     "metadata": {},
     "output_type": "execute_result"
    }
   ],
   "source": [
    "from sklearn.neighbors import NearestNeighbors\n",
    "nearset = NearestNeighbors(metric='cosine')\n",
    "nearset.fit(rating_pivot)"
   ]
  },
  {
   "cell_type": "code",
   "execution_count": 168,
   "id": "083adad4",
   "metadata": {},
   "outputs": [],
   "source": [
    "def recommend_on_movie_collaborative_based(movie,n_reccomend = 5):\n",
    "    input_movie_id=int(movies_data[movies_data['title'].str.strip()==movie]['movieId'])\n",
    "    input_movie_rating=rating_pivot.iloc[input_movie_id]\n",
    "    \n",
    "    v,neighbors=nearset.kneighbors([input_movie_rating],n_neighbors=n_reccomend+1)\n",
    "    \n",
    "    recommeds_movies=[]\n",
    "    recommends_rate=[]\n",
    "    for i in neighbors[0]:\n",
    "        if i !=input_movie_id:\n",
    "            recommeds_movies.append(movies_data.iloc[i]['title'])\n",
    "            recommends_rate.append((movies_data.iloc[i]['rate']))\n",
    "    \n",
    "    print(recommeds_movies)\n",
    "    print(recommends_rate)\n",
    "    \n",
    "    recommends_rate,recommeds_movies= zip(*sorted(zip(recommends_rate,recommeds_movies)))\n",
    "\n",
    "    return [recommeds_movies[-1-i]+'- '+str(recommends_rate[-1-i]) for i in range(0,n_reccomend)]"
   ]
  },
  {
   "cell_type": "code",
   "execution_count": 169,
   "id": "7affcf63",
   "metadata": {},
   "outputs": [
    {
     "name": "stdout",
     "output_type": "stream",
     "text": [
      "[\"Where's Marlowe? \", 'Pinocchio ', 'Lamerica ', 'Asfour Stah ', 'Ratchet ']\n",
      "[4.0, 3.8, 4.8, 0.0, 0.0]\n"
     ]
    },
    {
     "data": {
      "text/plain": [
       "['Lamerica - 4.8',\n",
       " \"Where's Marlowe? - 4.0\",\n",
       " 'Pinocchio - 3.8',\n",
       " 'Ratchet - 0.0',\n",
       " 'Asfour Stah - 0.0']"
      ]
     },
     "execution_count": 169,
     "metadata": {},
     "output_type": "execute_result"
    }
   ],
   "source": [
    "recommend_on_movie_collaborative_based('Father of the Bride Part II')"
   ]
  }
 ],
 "metadata": {
  "interpreter": {
   "hash": "3dff1008a1babfc12c6cd8c79b245b357c6e10ab42e89a62ecd98039f1f037b6"
  },
  "kernelspec": {
   "display_name": "Python 3 (ipykernel)",
   "language": "python",
   "name": "python3"
  },
  "language_info": {
   "codemirror_mode": {
    "name": "ipython",
    "version": 3
   },
   "file_extension": ".py",
   "mimetype": "text/x-python",
   "name": "python",
   "nbconvert_exporter": "python",
   "pygments_lexer": "ipython3",
   "version": "3.9.12"
  }
 },
 "nbformat": 4,
 "nbformat_minor": 5
}
